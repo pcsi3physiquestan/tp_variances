{
 "cells": [
  {
   "cell_type": "markdown",
   "id": "least-growing",
   "metadata": {},
   "source": [
    "# Comparaison entre Monte-Carlo et la propagation des variances\n",
    "\n",
    "On se propose de comparer les résultats obtenus sur des exemples pour la somme, le produit et l'utilisation d'une fonction. On rappelle qu'il ne s'agit pas d'une démonstration mais de montrer qu'on trouve bien les mêmes résultats (ou pas)."
   ]
  },
  {
   "cell_type": "markdown",
   "id": "traditional-comparison",
   "metadata": {},
   "source": [
    "## Cas d'une somme\n",
    "On prend deux grandeurs $X_1$ et $X_2$ dont les incertitudes-type estimées sont respectivement $u_1$ et $u_2$. On cherche l'incertitude-type de $Y = X_1 + X_2$.\n",
    "\n",
    "__Attention :__ Pour une distribution uniforme, on travaille en général avec la demi-largeur $t$ __qui n'est pas l'incertitude-type de la distribution.__ L'incertitude_type d'une distribution uniforme est $\\frac{t}{\\sqrt{3}}$."
   ]
  },
  {
   "cell_type": "code",
   "execution_count": 1,
   "id": "pleasant-suite",
   "metadata": {},
   "outputs": [
    {
     "name": "stdout",
     "output_type": "stream",
     "text": [
      "Résultat de mesurage :  3\n",
      "u(Y) par propagation des variances  0.09433981132056604\n",
      "u(Y) par Monte-Carlo (cas uniforme)  0.0943287423344646\n"
     ]
    }
   ],
   "source": [
    "import numpy as np\n",
    "import matplotlib.pyplot as plt\n",
    "import numpy.random as rd\n",
    "\n",
    "X1_mes = 1  # Résultat de mesurage pour X1\n",
    "X2_mes = 2  # Résultat de mesurage pour X2\n",
    "X1_u = 0.05  # Incertitude-type pour X1\n",
    "X2_u = 0.08  # Incertitude-type pour X2\n",
    "X1_t = X1_u * np.sqrt(3)  # Demi-largeur de la distribution uniforme pour X1\n",
    "X2_t = X2_u * np.sqrt(3)  # Demi-largeur de la distribution uniforme pour X2\n",
    "\n",
    "# Valeur mesurée pour Y\n",
    "Y_mes = X1_mes + X2_mes\n",
    "print(\"Résultat de mesurage : \", Y_mes)\n",
    "\n",
    "# Propagation des variances\n",
    "Y_uv = np.sqrt(X1_u ** 2 + X2_u ** 2)\n",
    "print(\"u(Y) par propagation des variances \", Y_uv)\n",
    "\n",
    "# Simulation de Monte-Carlo (cas uniforme)\n",
    "N = 1000000\n",
    "X1_sim = X1_mes + rd.uniform(-X1_t, X1_t, N)\n",
    "X2_sim = X2_mes + rd.uniform(-X2_t, X2_t, N)\n",
    "Y_sim = X1_sim + X2_sim\n",
    "Y_um1 = np.std(Y_sim, ddof=1)\n",
    "print(\"u(Y) par Monte-Carlo (cas uniforme) \", Y_um1)"
   ]
  },
  {
   "cell_type": "markdown",
   "id": "sonic-dietary",
   "metadata": {},
   "source": [
    "_On peut considérer que sur ce cas, la propagation des variances donne bien un résultat correct._"
   ]
  },
  {
   "cell_type": "markdown",
   "id": "boxed-invite",
   "metadata": {},
   "source": [
    "## Cas d'un produit\n",
    "On prend deux grandeurs $X_1$ et $X_2$ dont les incertitudes-type estimées sont respectivement $u_1$ et $u_2$. On cherche l'incertitude-type de $Y = X_1 \\times X_2$.\n",
    "\n",
    "__Attention :__ Pour une distribution uniforme, on travaille en général avec la demi-largeur $t$ __qui n'est pas l'incertitude-type de la distribution.__ L'incertitude_type d'une distribution uniforme est $\\frac{t}{\\sqrt{3}}$."
   ]
  },
  {
   "cell_type": "code",
   "execution_count": 2,
   "id": "cardiovascular-spirit",
   "metadata": {},
   "outputs": [
    {
     "name": "stdout",
     "output_type": "stream",
     "text": [
      "Résultat de mesurage :  2\n",
      "u(Y) par propagation des variances  0.12806248474865697\n",
      "u(Y) par Monte-Carlo (cas uniforme)  0.12815348163445825\n"
     ]
    }
   ],
   "source": [
    "X1_mes = 1  # Résultat de mesurage pour X1\n",
    "X2_mes = 2  # Résultat de mesurage pour X2\n",
    "X1_u = 0.05  # Incertitude-type pour X1\n",
    "X2_u = 0.08  # Incertitude-type pour X2\n",
    "X1_t = X1_u * np.sqrt(3)  # Demi-largeur de la distribution uniforme pour X1\n",
    "X2_t = X2_u * np.sqrt(3)  # Demi-largeur de la distribution uniforme pour X2\n",
    "\n",
    "# Valeur mesurée pour Y\n",
    "Y_mes = X1_mes * X2_mes\n",
    "print(\"Résultat de mesurage : \", Y_mes)\n",
    "\n",
    "# Propagation des variances\n",
    "Y_uv = Y_mes * np.sqrt((X1_u / X1_mes) ** 2 + (X2_u / X2_mes) ** 2)\n",
    "print(\"u(Y) par propagation des variances \", Y_uv)\n",
    "\n",
    "# Simulation de Monte-Carlo (cas uniforme)\n",
    "N = 1000000\n",
    "X1_sim = X1_mes + rd.uniform(-X1_t, X1_t, N)\n",
    "X2_sim = X2_mes + rd.uniform(-X2_t, X2_t, N)\n",
    "Y_sim = X1_sim * X2_sim\n",
    "Y_um1 = np.std(Y_sim, ddof=1)\n",
    "print(\"u(Y) par Monte-Carlo (cas uniforme) \", Y_um1)"
   ]
  },
  {
   "cell_type": "markdown",
   "id": "supreme-taste",
   "metadata": {},
   "source": [
    "_On peut considérer que sur ce cas, la propagation des variances donne bien un résultat correct._"
   ]
  },
  {
   "cell_type": "markdown",
   "id": "later-behavior",
   "metadata": {},
   "source": [
    "## Cas d'une combinaison\n",
    "On prend deux grandeurs $X_1$ et $X_2$ dont les incertitudes-type estimées sont respectivement $u_1$ et $u_2$. On cherche l'incertitude-type de $Y = {X_1 X_2 \\over X_2 + X_1}$.\n",
    "\n",
    "__Attention :__ Pour une distribution uniforme, on travaille en général avec la demi-largeur $t$ __qui n'est pas l'incertitude-type de la distribution.__ L'incertitude_type d'une distribution uniforme est $\\frac{t}{\\sqrt{3}}$.\n",
    "\n",
    "Explication sur l'expression de l'incertitude :\n",
    "\n",
    "\\begin{align}\n",
    "Y &= \\frac{1}{{1 \\over X1} + {1 \\over X2}}\\\\\n",
    "u({1\\over X1}) &= {u(X1)\\over X1^2}\\\\\n",
    "u({1\\over X2}) &= {u(X2)\\over X2^2}\\\\\n",
    "u({1\\over X1} + {1\\over X2}) &= \\sqrt{u({1\\over X1})^2 + u({1\\over X2})^2}\\\\\n",
    "u(Y) &= Y {u({1\\over X1} + {1\\over X2}) \\over \\frac{1}{{1 \\over X1} + {1 \\over X2}}}\\\\\n",
    "u(Y) &= Y^2 \\sqrt{\\left ({u(X1)\\over X1^2}\\right )^2 + \\left ({u(X2)\\over X2^2}\\right )^2}\n",
    "\\end{align}"
   ]
  },
  {
   "cell_type": "code",
   "execution_count": 3,
   "id": "fresh-typing",
   "metadata": {},
   "outputs": [
    {
     "name": "stdout",
     "output_type": "stream",
     "text": [
      "Résultat de mesurage :  0.6666666666666666\n",
      "u(Y) par propagation des variances  0.023934065809486687\n"
     ]
    },
    {
     "name": "stdout",
     "output_type": "stream",
     "text": [
      "u(Y) par Monte-Carlo (cas uniforme)  0.023947910866089793\n"
     ]
    },
    {
     "data": {
      "image/png": "[encoded data removed]",
      "text/plain": [
       "<Figure size 432x288 with 1 Axes>"
      ]
     },
     "metadata": {
      "filenames": {
       "image/png": "/home/ubuntu/Dropbox/Enseignement prepas/travaux_pratiques/sources/tp_variances/_build/jupyter_execute/variance_comparaison_8_2.png"
      },
      "needs_background": "light"
     },
     "output_type": "display_data"
    }
   ],
   "source": [
    "X1_mes = 1  # Résultat de mesurage pour X1\n",
    "X2_mes = 2  # Résultat de mesurage pour X2\n",
    "X1_u = 0.05  # Incertitude-type pour X1\n",
    "X2_u = 0.08  # Incertitude-type pour X2\n",
    "X1_t = X1_u * np.sqrt(3)  # Demi-largeur de la distribution uniforme pour X1\n",
    "X2_t = X2_u * np.sqrt(3)  # Demi-largeur de la distribution uniforme pour X2\n",
    "\n",
    "# Valeur mesurée pour Y\n",
    "Y_mes = (X1_mes * X2_mes) / (X1_mes + X2_mes)\n",
    "print(\"Résultat de mesurage : \", Y_mes)\n",
    "\n",
    "# Propagation des variances\n",
    "Y_uv = Y_mes ** 2 * np.sqrt((X1_u / X1_mes ** 2) ** 2 + (X2_u / X2_mes ** 2) ** 2)\n",
    "print(\"u(Y) par propagation des variances \", Y_uv)\n",
    "\n",
    "# Simulation de Monte-Carlo (cas uniforme)\n",
    "N = 1000000\n",
    "X1_sim = X1_mes + rd.uniform(-X1_t, X1_t, N)\n",
    "X2_sim = X2_mes + rd.uniform(-X2_t, X2_t, N)\n",
    "Y_sim = (X1_sim * X2_sim) / (X1_sim + X2_sim)\n",
    "Y_um1 = np.std(Y_sim, ddof=1)\n",
    "print(\"u(Y) par Monte-Carlo (cas uniforme) \", Y_um1)\n",
    "\n",
    "#plt.hist(prod_sim, bins='rice')\n",
    "plt.hist(Y_sim, bins='rice')\n",
    "plt.show()"
   ]
  },
  {
   "cell_type": "markdown",
   "id": "vital-relay",
   "metadata": {},
   "source": [
    "_On peut considérer que sur ce cas, la propagation des variances donne bien un résultat correct._"
   ]
  },
  {
   "cell_type": "markdown",
   "id": "worldwide-jordan",
   "metadata": {},
   "source": [
    "## Cas d'une fonction\n",
    "On prend une grandeur $X_1$ l'incertitude-type estimée est respectivement $u_1$. On cherche l'incertitude-type de $Y = f(X_1) $.\n",
    "\n",
    "\n",
    "__Attention :__ Pour une distribution uniforme, on travaille en général avec la demi-largeur $t$ __qui n'est pas l'incertitude-type de la distribution.__ L'incertitude_type d'une distribution uniforme est $\\frac{t}{\\sqrt{3}}$.\n",
    "\n",
    "On prendra deux fonctions :\n",
    "* $f(x) = x^2$\n",
    "* $f(x) = \\cos x$"
   ]
  },
  {
   "cell_type": "markdown",
   "id": "civil-button",
   "metadata": {},
   "source": [
    "### Cas du carré"
   ]
  },
  {
   "cell_type": "code",
   "execution_count": 4,
   "id": "demographic-desert",
   "metadata": {},
   "outputs": [
    {
     "name": "stdout",
     "output_type": "stream",
     "text": [
      "Résultat de mesurage :  1\n",
      "u(Y) par propagation des variances  0.1\n",
      "u(Y) par Monte-Carlo (cas uniforme)  0.09996921769082069\n"
     ]
    }
   ],
   "source": [
    "X1_mes = 1  # Résultat de mesurage pour X1\n",
    "X1_u = 0.05  # Incertitude-type pour X1\n",
    "X1_t = X1_u * np.sqrt(3)  # Demi-largeur de la distribution uniforme pour X1\n",
    "\n",
    "# Valeur mesurée pour Y\n",
    "Y_mes = X1_mes ** 2\n",
    "print(\"Résultat de mesurage : \", Y_mes)\n",
    "\n",
    "# Propagation des variances\n",
    "Y_uv = 2 * X1_mes * X1_u\n",
    "print(\"u(Y) par propagation des variances \", Y_uv)\n",
    "\n",
    "# Simulation de Monte-Carlo (cas uniforme)\n",
    "N = 1000000\n",
    "X1_sim = X1_mes + rd.uniform(-X1_t, X1_t, N)\n",
    "Y_sim = X1_sim ** 2\n",
    "Y_um1 = np.std(Y_sim, ddof=1)\n",
    "print(\"u(Y) par Monte-Carlo (cas uniforme) \", Y_um1)"
   ]
  },
  {
   "cell_type": "markdown",
   "id": "dutch-execution",
   "metadata": {},
   "source": [
    "_On peut considérer que sur ce cas, la propagation des variances donne bien un résultat correct._"
   ]
  },
  {
   "cell_type": "markdown",
   "id": "material-twelve",
   "metadata": {},
   "source": [
    "### Cas du cosinus"
   ]
  },
  {
   "cell_type": "code",
   "execution_count": 5,
   "id": "compatible-supervisor",
   "metadata": {},
   "outputs": [
    {
     "name": "stdout",
     "output_type": "stream",
     "text": [
      "Résultat de mesurage :  0.9999500004166653\n",
      "u(Y) par propagation des variances  0.002498958463533917\n",
      "u(Y) par Monte-Carlo (cas uniforme)  0.0012239889468676568\n"
     ]
    }
   ],
   "source": [
    "X1_mes = 0.01  # Résultat de mesurage pour X1\n",
    "X1_u = 0.05  # Incertitude-type pour X1\n",
    "X1_t = X1_u * np.sqrt(3)  # Demi-largeur de la distribution uniforme pour X1\n",
    "\n",
    "# Valeur mesurée pour Y\n",
    "Y_mes = np.cos(X1_mes)\n",
    "print(\"Résultat de mesurage : \", Y_mes)\n",
    "\n",
    "# Propagation des variances\n",
    "Y_uv = np.sin(X1_u) * X1_u\n",
    "print(\"u(Y) par propagation des variances \", Y_uv)\n",
    "\n",
    "# Simulation de Monte-Carlo (cas uniforme)\n",
    "N = 1000000\n",
    "X1_sim = X1_mes + rd.uniform(-X1_t, X1_t, N)\n",
    "Y_sim = np.cos(X1_sim)\n",
    "Y_um1 = np.std(Y_sim, ddof=1)\n",
    "print(\"u(Y) par Monte-Carlo (cas uniforme) \", Y_um1)"
   ]
  },
  {
   "cell_type": "markdown",
   "id": "sitting-circle",
   "metadata": {},
   "source": [
    "Et là, on observe un grand écart. La raison est que la fonction n'est pas du tout linéaire et qu'on est proche d'un extremum : il y a un changement de pente.\n",
    "\n",
    "Comme expliqué précédemment, la relation donnée vient d'une approximatino de la fonction par sa tangente. Autour du maximum d'un cosinus, ce n'est pas valable."
   ]
  },
  {
   "cell_type": "markdown",
   "id": "alien-package",
   "metadata": {},
   "source": [
    "```{important}\n",
    "On retiendra que le cas $Y = f(X)$ pose souvent des problèmes (quand la fonction n'est pas linéaire). Il est souvent préférable d'utiliser Monte-Carlo dans ce cas là.\n",
    "```"
   ]
  },
  {
   "cell_type": "code",
   "execution_count": null,
   "id": "million-method",
   "metadata": {},
   "outputs": [],
   "source": []
  }
 ],
 "metadata": {
  "jupytext": {
   "encoding": "# -*- coding: utf-8 -*-",
   "formats": "ipynb,md:myst",
   "split_at_heading": true,
   "text_representation": {
    "extension": ".md",
    "format_name": "myst",
    "format_version": 0.13,
    "jupytext_version": "1.10.3"
   }
  },
  "kernelspec": {
   "display_name": "Python 3",
   "language": "python",
   "name": "python3"
  },
  "language_info": {
   "codemirror_mode": {
    "name": "ipython",
    "version": 3
   },
   "file_extension": ".py",
   "mimetype": "text/x-python",
   "name": "python",
   "nbconvert_exporter": "python",
   "pygments_lexer": "ipython3",
   "version": "3.9.2"
  },
  "source_map": [
   15,
   21,
   28,
   55,
   59,
   66,
   89,
   93,
   111,
   138,
   142,
   154,
   158,
   177,
   181,
   185,
   204,
   210,
   216
  ]
 },
 "nbformat": 4,
 "nbformat_minor": 5
}